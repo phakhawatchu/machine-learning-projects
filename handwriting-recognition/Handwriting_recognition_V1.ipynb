{
 "cells": [
  {
   "cell_type": "markdown",
   "metadata": {
    "id": "RGrtvBTCzLmS"
   },
   "source": [
    "# Acquiring data set"
   ]
  },
  {
   "cell_type": "code",
   "execution_count": 1,
   "metadata": {
    "id": "wxnyR6MpxUb_"
   },
   "outputs": [
    {
     "name": "stdout",
     "output_type": "stream",
     "text": [
      "--2022-07-27 21:20:25--  https://www.itl.nist.gov/iaui/vip/cs_links/EMNIST/gzip.zip\n",
      "Resolving www.itl.nist.gov (www.itl.nist.gov)... 129.6.13.19, 2610:20:6b01:4::175\n",
      "Connecting to www.itl.nist.gov (www.itl.nist.gov)|129.6.13.19|:443... connected.\n",
      "HTTP request sent, awaiting response... 200 OK\n",
      "Length: 561753746 (536M) [application/zip]\n",
      "Saving to: ‘gzip.zip’\n",
      "\n",
      "gzip.zip            100%[===================>] 535.73M   819KB/s    in 8m 28s  \n",
      "\n",
      "2022-07-27 21:28:55 (1.05 MB/s) - ‘gzip.zip’ saved [561753746/561753746]\n",
      "\n",
      "Archive:  gzip.zip\n",
      "  inflating: gzip/emnist-balanced-mapping.txt  \n",
      "  inflating: gzip/emnist-balanced-test-images-idx3-ubyte.gz  \n",
      " extracting: gzip/emnist-balanced-test-labels-idx1-ubyte.gz  \n",
      "  inflating: gzip/emnist-balanced-train-images-idx3-ubyte.gz  \n",
      "  inflating: gzip/emnist-balanced-train-labels-idx1-ubyte.gz  \n",
      "  inflating: gzip/emnist-byclass-mapping.txt  \n",
      "  inflating: gzip/emnist-byclass-test-images-idx3-ubyte.gz  \n",
      "  inflating: gzip/emnist-byclass-test-labels-idx1-ubyte.gz  \n",
      "  inflating: gzip/emnist-byclass-train-images-idx3-ubyte.gz  \n",
      "  inflating: gzip/emnist-byclass-train-labels-idx1-ubyte.gz  \n",
      "  inflating: gzip/emnist-bymerge-mapping.txt  \n",
      "  inflating: gzip/emnist-bymerge-test-images-idx3-ubyte.gz  \n",
      "  inflating: gzip/emnist-bymerge-test-labels-idx1-ubyte.gz  \n",
      "  inflating: gzip/emnist-bymerge-train-images-idx3-ubyte.gz  \n",
      "  inflating: gzip/emnist-bymerge-train-labels-idx1-ubyte.gz  \n",
      "  inflating: gzip/emnist-digits-mapping.txt  \n",
      "  inflating: gzip/emnist-digits-test-images-idx3-ubyte.gz  \n",
      "  inflating: gzip/emnist-digits-test-labels-idx1-ubyte.gz  \n",
      "  inflating: gzip/emnist-digits-train-images-idx3-ubyte.gz  \n",
      "  inflating: gzip/emnist-digits-train-labels-idx1-ubyte.gz  \n",
      "  inflating: gzip/emnist-letters-mapping.txt  \n",
      "  inflating: gzip/emnist-letters-test-images-idx3-ubyte.gz  \n",
      " extracting: gzip/emnist-letters-test-labels-idx1-ubyte.gz  \n",
      "  inflating: gzip/emnist-letters-train-images-idx3-ubyte.gz  \n",
      "  inflating: gzip/emnist-letters-train-labels-idx1-ubyte.gz  \n",
      "  inflating: gzip/emnist-mnist-mapping.txt  \n",
      "  inflating: gzip/emnist-mnist-test-images-idx3-ubyte.gz  \n",
      " extracting: gzip/emnist-mnist-test-labels-idx1-ubyte.gz  \n",
      "  inflating: gzip/emnist-mnist-train-images-idx3-ubyte.gz  \n",
      "  inflating: gzip/emnist-mnist-train-labels-idx1-ubyte.gz  \n",
      "Collecting python-mnist\n",
      "  Downloading python_mnist-0.7-py2.py3-none-any.whl (9.6 kB)\n",
      "Installing collected packages: python-mnist\n",
      "Successfully installed python-mnist-0.7\n"
     ]
    }
   ],
   "source": [
    "!wget https://www.itl.nist.gov/iaui/vip/cs_links/EMNIST/gzip.zip\n",
    "!unzip gzip.zip \n",
    "!rm gzip.zip\n",
    "!pip install python-mnist"
   ]
  },
  {
   "cell_type": "markdown",
   "metadata": {
    "id": "RaX98iUm4JVh"
   },
   "source": [
    "# Import modules"
   ]
  },
  {
   "cell_type": "code",
   "execution_count": 2,
   "metadata": {
    "id": "X0-zBgNtxeRe"
   },
   "outputs": [],
   "source": [
    "import os\n",
    "import numpy as np\n",
    "import tensorflow as tf\n",
    "from mnist import MNIST\n",
    "from sklearn.utils.class_weight import compute_class_weight\n",
    "from tensorflow.keras.models import Sequential\n",
    "from tensorflow.keras.layers import Convolution2D, MaxPooling2D, BatchNormalization, Flatten, Dropout, Dense"
   ]
  },
  {
   "cell_type": "code",
   "execution_count": 3,
   "metadata": {
    "id": "6TxvTxN54IzD"
   },
   "outputs": [
    {
     "name": "stdout",
     "output_type": "stream",
     "text": [
      "Running on single GPU  /device:GPU:0\n",
      "Number of accelerators:  1\n"
     ]
    },
    {
     "name": "stderr",
     "output_type": "stream",
     "text": [
      "2022-07-27 21:29:01.265490: I tensorflow/stream_executor/cuda/cuda_gpu_executor.cc:936] successful NUMA node read from SysFS had negative value (-1), but there must be at least one NUMA node, so returning NUMA node zero\n",
      "2022-07-27 21:29:01.282962: I tensorflow/stream_executor/cuda/cuda_gpu_executor.cc:936] successful NUMA node read from SysFS had negative value (-1), but there must be at least one NUMA node, so returning NUMA node zero\n",
      "2022-07-27 21:29:01.283319: I tensorflow/stream_executor/cuda/cuda_gpu_executor.cc:936] successful NUMA node read from SysFS had negative value (-1), but there must be at least one NUMA node, so returning NUMA node zero\n",
      "2022-07-27 21:29:01.284501: I tensorflow/core/platform/cpu_feature_guard.cc:151] This TensorFlow binary is optimized with oneAPI Deep Neural Network Library (oneDNN) to use the following CPU instructions in performance-critical operations:  AVX2 FMA\n",
      "To enable them in other operations, rebuild TensorFlow with the appropriate compiler flags.\n",
      "2022-07-27 21:29:01.285310: I tensorflow/stream_executor/cuda/cuda_gpu_executor.cc:936] successful NUMA node read from SysFS had negative value (-1), but there must be at least one NUMA node, so returning NUMA node zero\n",
      "2022-07-27 21:29:01.285660: I tensorflow/stream_executor/cuda/cuda_gpu_executor.cc:936] successful NUMA node read from SysFS had negative value (-1), but there must be at least one NUMA node, so returning NUMA node zero\n",
      "2022-07-27 21:29:01.285989: I tensorflow/stream_executor/cuda/cuda_gpu_executor.cc:936] successful NUMA node read from SysFS had negative value (-1), but there must be at least one NUMA node, so returning NUMA node zero\n",
      "2022-07-27 21:29:01.726349: I tensorflow/stream_executor/cuda/cuda_gpu_executor.cc:936] successful NUMA node read from SysFS had negative value (-1), but there must be at least one NUMA node, so returning NUMA node zero\n",
      "2022-07-27 21:29:01.726705: I tensorflow/stream_executor/cuda/cuda_gpu_executor.cc:936] successful NUMA node read from SysFS had negative value (-1), but there must be at least one NUMA node, so returning NUMA node zero\n",
      "2022-07-27 21:29:01.727023: I tensorflow/stream_executor/cuda/cuda_gpu_executor.cc:936] successful NUMA node read from SysFS had negative value (-1), but there must be at least one NUMA node, so returning NUMA node zero\n",
      "2022-07-27 21:29:01.727452: I tensorflow/core/common_runtime/gpu/gpu_device.cc:1525] Created device /job:localhost/replica:0/task:0/device:GPU:0 with 9729 MB memory:  -> device: 0, name: NVIDIA GeForce RTX 3080 Ti, pci bus id: 0000:08:00.0, compute capability: 8.6\n"
     ]
    }
   ],
   "source": [
    "try:\n",
    "    tpu_resolver = tf.distribute.cluster_resolver.TPUClusterResolver() # TPU detection\n",
    "except ValueError:\n",
    "    tpu_resolver = None\n",
    "    gpus = tf.config.experimental.list_logical_devices(\"GPU\")\n",
    "\n",
    "# Select appropriate distribution strategy\n",
    "if tpu_resolver:\n",
    "    tf.config.experimental_connect_to_cluster(tpu_resolver)\n",
    "    tf.tpu.experimental.initialize_tpu_system(tpu_resolver)\n",
    "    strategy = tf.distribute.experimental.TPUStrategy(tpu_resolver)\n",
    "    print('Running on TPU ', tpu_resolver.cluster_spec().as_dict()['worker'])\n",
    "elif len(gpus) > 1:\n",
    "    strategy = tf.distribute.MirroredStrategy([gpu.name for gpu in gpus])\n",
    "    print('Running on multiple GPUs ', [gpu.name for gpu in gpus])\n",
    "elif len(gpus) == 1:\n",
    "    strategy = tf.distribute.get_strategy() # default strategy that works on CPU and single GPU\n",
    "    print('Running on single GPU ', gpus[0].name)\n",
    "else:\n",
    "    strategy = tf.distribute.get_strategy() # default strategy that works on CPU and single GPU\n",
    "    print('Running on CPU')\n",
    "\n",
    "print(\"Number of accelerators: \", strategy.num_replicas_in_sync)"
   ]
  },
  {
   "cell_type": "markdown",
   "metadata": {
    "id": "FZWtvlNuzQZM"
   },
   "source": [
    "# Preparing data set"
   ]
  },
  {
   "cell_type": "code",
   "execution_count": 4,
   "metadata": {
    "id": "zyPpLEIKzXS5"
   },
   "outputs": [],
   "source": [
    "# load the entire EMNIST dataset as numpy arrays (this might take a while)\n",
    "emnist_data = MNIST(path='gzip', return_type='numpy')\n",
    "emnist_data.select_emnist('byclass')\n",
    "x_train, y_train = emnist_data.load_training()\n",
    "x_test, y_test = emnist_data.load_testing()"
   ]
  },
  {
   "cell_type": "code",
   "execution_count": 5,
   "metadata": {
    "id": "srSn304sx6p_"
   },
   "outputs": [
    {
     "data": {
      "text/plain": [
       "((697932, 784), (697932,), (116323, 784), (116323,))"
      ]
     },
     "execution_count": 5,
     "metadata": {},
     "output_type": "execute_result"
    }
   ],
   "source": [
    "x_train.shape, y_train.shape, x_test.shape, y_test.shape"
   ]
  },
  {
   "cell_type": "code",
   "execution_count": 6,
   "metadata": {
    "id": "dd9ePHywza-n"
   },
   "outputs": [
    {
     "data": {
      "text/plain": [
       "((697932, 28, 28, 1), (116323, 28, 28, 1))"
      ]
     },
     "execution_count": 6,
     "metadata": {},
     "output_type": "execute_result"
    }
   ],
   "source": [
    "img_side = 28\n",
    "\n",
    "# Reshape tensors to [n, y, x, 1] and normalize the pixel values between [0, 1]\n",
    "x_train = x_train.reshape(-1, img_side, img_side, 1).astype('float32') / 255.0\n",
    "x_test = x_test.reshape(-1, img_side, img_side, 1).astype('float32') / 255.0\n",
    "\n",
    "x_train.shape, x_test.shape"
   ]
  },
  {
   "cell_type": "code",
   "execution_count": 7,
   "metadata": {
    "id": "Bq3DNoT-yCto"
   },
   "outputs": [],
   "source": [
    "# get number of classes\n",
    "unique_classes = np.unique(y_train)\n",
    "num_classes = len(unique_classes)\n",
    "\n",
    "input_shape = (img_side, img_side, 1)\n",
    "\n",
    "# weight the classes (to combat the imbalance)\n",
    "class_weights = compute_class_weight(\n",
    "                                        class_weight = \"balanced\",\n",
    "                                        classes = unique_classes,\n",
    "                                        y = y_train                                                    \n",
    "                                    )\n",
    "class_weights = dict(zip(np.unique(y_train), class_weights))\n",
    "\n",
    "# Convert class vectors to binary class matrices\n",
    "y_train = tf.keras.utils.to_categorical(y_train, num_classes)\n",
    "y_test = tf.keras.utils.to_categorical(y_test, num_classes)"
   ]
  },
  {
   "cell_type": "code",
   "execution_count": 8,
   "metadata": {
    "id": "ipVIGthtyEhT"
   },
   "outputs": [],
   "source": [
    "kernel_size = (5, 5)\n",
    "def createmodel():\n",
    "    return Sequential([\n",
    "        Convolution2D(16, kernel_size=kernel_size, padding='same', input_shape=input_shape, activation='relu'),\n",
    "        MaxPooling2D(pool_size=(2, 2)),\n",
    "        BatchNormalization(),\n",
    "        Dropout(0.4),\n",
    "        Convolution2D(32, kernel_size=kernel_size, padding='same', activation= 'relu'), #strides=2,\n",
    "        MaxPooling2D(pool_size=(2, 2)),\n",
    "        BatchNormalization(),\n",
    "        Dropout(0.4),\n",
    "        Convolution2D(64, kernel_size=kernel_size, padding='same', activation= 'relu'),\n",
    "        MaxPooling2D(pool_size =(2,2)),\n",
    "        BatchNormalization(),\n",
    "        Dropout(0.4),\n",
    "        Flatten(),\n",
    "        Dense(256, activation='relu'),\n",
    "        BatchNormalization(),\n",
    "        Dropout(0.4),\n",
    "        Dense(num_classes, activation='softmax'),\n",
    "    ])"
   ]
  },
  {
   "cell_type": "code",
   "execution_count": 13,
   "metadata": {
    "id": "RZ-ZhrJAyRyz"
   },
   "outputs": [],
   "source": [
    "# setting up model to run on cpu, or gpu when avaiable\n",
    "with strategy.scope():\n",
    "    model = createmodel()\n",
    "    model.compile(loss=\"categorical_crossentropy\",\n",
    "            optimizer=\"adam\",\n",
    "            metrics=[\"accuracy\"])"
   ]
  },
  {
   "cell_type": "code",
   "execution_count": 14,
   "metadata": {
    "id": "XVLtD2gqz6QA"
   },
   "outputs": [
    {
     "name": "stdout",
     "output_type": "stream",
     "text": [
      "Model: \"sequential_1\"\n",
      "_________________________________________________________________\n",
      " Layer (type)                Output Shape              Param #   \n",
      "=================================================================\n",
      " conv2d_3 (Conv2D)           (None, 28, 28, 16)        416       \n",
      "                                                                 \n",
      " max_pooling2d_3 (MaxPooling  (None, 14, 14, 16)       0         \n",
      " 2D)                                                             \n",
      "                                                                 \n",
      " batch_normalization_4 (Batc  (None, 14, 14, 16)       64        \n",
      " hNormalization)                                                 \n",
      "                                                                 \n",
      " dropout_4 (Dropout)         (None, 14, 14, 16)        0         \n",
      "                                                                 \n",
      " conv2d_4 (Conv2D)           (None, 14, 14, 32)        12832     \n",
      "                                                                 \n",
      " max_pooling2d_4 (MaxPooling  (None, 7, 7, 32)         0         \n",
      " 2D)                                                             \n",
      "                                                                 \n",
      " batch_normalization_5 (Batc  (None, 7, 7, 32)         128       \n",
      " hNormalization)                                                 \n",
      "                                                                 \n",
      " dropout_5 (Dropout)         (None, 7, 7, 32)          0         \n",
      "                                                                 \n",
      " conv2d_5 (Conv2D)           (None, 7, 7, 64)          51264     \n",
      "                                                                 \n",
      " max_pooling2d_5 (MaxPooling  (None, 3, 3, 64)         0         \n",
      " 2D)                                                             \n",
      "                                                                 \n",
      " batch_normalization_6 (Batc  (None, 3, 3, 64)         256       \n",
      " hNormalization)                                                 \n",
      "                                                                 \n",
      " dropout_6 (Dropout)         (None, 3, 3, 64)          0         \n",
      "                                                                 \n",
      " flatten_1 (Flatten)         (None, 576)               0         \n",
      "                                                                 \n",
      " dense_2 (Dense)             (None, 256)               147712    \n",
      "                                                                 \n",
      " batch_normalization_7 (Batc  (None, 256)              1024      \n",
      " hNormalization)                                                 \n",
      "                                                                 \n",
      " dropout_7 (Dropout)         (None, 256)               0         \n",
      "                                                                 \n",
      " dense_3 (Dense)             (None, 62)                15934     \n",
      "                                                                 \n",
      "=================================================================\n",
      "Total params: 229,630\n",
      "Trainable params: 228,894\n",
      "Non-trainable params: 736\n",
      "_________________________________________________________________\n",
      "You must install pydot (`pip install pydot`) and install graphviz (see instructions at https://graphviz.gitlab.io/download/) for plot_model/model_to_dot to work.\n"
     ]
    }
   ],
   "source": [
    "model.summary()\n",
    "tf.keras.utils.plot_model(model, show_shapes=True)"
   ]
  },
  {
   "cell_type": "markdown",
   "metadata": {
    "id": "ylUYHsrDz95-"
   },
   "source": [
    "# Train model"
   ]
  },
  {
   "cell_type": "code",
   "execution_count": 15,
   "metadata": {
    "id": "iQiI8ZZXz9Q1"
   },
   "outputs": [],
   "source": [
    "es = tf.keras.callbacks.EarlyStopping(\n",
    "    monitor='val_loss',\n",
    "    mode='min',\n",
    "    verbose=1,\n",
    "    patience=10,\n",
    "    restore_best_weights=True)"
   ]
  },
  {
   "cell_type": "code",
   "execution_count": 16,
   "metadata": {
    "id": "O3cmdeEMyTb2"
   },
   "outputs": [
    {
     "name": "stderr",
     "output_type": "stream",
     "text": [
      "2022-07-27 21:31:28.620836: W tensorflow/core/framework/cpu_allocator_impl.cc:82] Allocation of 2188714752 exceeds 10% of free system memory.\n",
      "2022-07-27 21:31:29.551123: W tensorflow/core/framework/cpu_allocator_impl.cc:82] Allocation of 2188714752 exceeds 10% of free system memory.\n"
     ]
    },
    {
     "name": "stdout",
     "output_type": "stream",
     "text": [
      "Epoch 1/200\n"
     ]
    },
    {
     "name": "stderr",
     "output_type": "stream",
     "text": [
      "2022-07-27 21:31:30.959049: W tensorflow/core/common_runtime/bfc_allocator.cc:275] Allocator (GPU_0_bfc) ran out of memory trying to allocate 3.91GiB with freed_by_count=0. The caller indicates that this is not a failure, but may mean that there could be performance gains if more memory were available.\n",
      "2022-07-27 21:31:30.959074: W tensorflow/core/common_runtime/bfc_allocator.cc:275] Allocator (GPU_0_bfc) ran out of memory trying to allocate 3.91GiB with freed_by_count=0. The caller indicates that this is not a failure, but may mean that there could be performance gains if more memory were available.\n",
      "2022-07-27 21:31:31.015723: W tensorflow/core/common_runtime/bfc_allocator.cc:275] Allocator (GPU_0_bfc) ran out of memory trying to allocate 3.91GiB with freed_by_count=0. The caller indicates that this is not a failure, but may mean that there could be performance gains if more memory were available.\n",
      "2022-07-27 21:31:31.015749: W tensorflow/core/common_runtime/bfc_allocator.cc:275] Allocator (GPU_0_bfc) ran out of memory trying to allocate 3.91GiB with freed_by_count=0. The caller indicates that this is not a failure, but may mean that there could be performance gains if more memory were available.\n"
     ]
    },
    {
     "name": "stdout",
     "output_type": "stream",
     "text": [
      "70/70 [==============================] - 8s 93ms/step - loss: 1.7234 - accuracy: 0.5603 - val_loss: 4.7153 - val_accuracy: 0.0188\n",
      "Epoch 2/200\n",
      "70/70 [==============================] - 5s 71ms/step - loss: 0.7838 - accuracy: 0.7514 - val_loss: 5.3614 - val_accuracy: 0.0178\n",
      "Epoch 3/200\n",
      "70/70 [==============================] - 5s 70ms/step - loss: 0.6502 - accuracy: 0.7865 - val_loss: 4.6149 - val_accuracy: 0.0314\n",
      "Epoch 4/200\n",
      "70/70 [==============================] - 5s 71ms/step - loss: 0.5879 - accuracy: 0.8036 - val_loss: 3.1413 - val_accuracy: 0.1772\n",
      "Epoch 5/200\n",
      "70/70 [==============================] - 5s 71ms/step - loss: 0.5504 - accuracy: 0.8141 - val_loss: 1.8786 - val_accuracy: 0.4553\n",
      "Epoch 6/200\n",
      "70/70 [==============================] - 5s 71ms/step - loss: 0.5253 - accuracy: 0.8210 - val_loss: 0.9719 - val_accuracy: 0.7038\n",
      "Epoch 7/200\n",
      "70/70 [==============================] - 5s 72ms/step - loss: 0.5067 - accuracy: 0.8259 - val_loss: 0.6714 - val_accuracy: 0.7719\n",
      "Epoch 8/200\n",
      "70/70 [==============================] - 5s 70ms/step - loss: 0.4926 - accuracy: 0.8302 - val_loss: 0.4905 - val_accuracy: 0.8258\n",
      "Epoch 9/200\n",
      "70/70 [==============================] - 5s 69ms/step - loss: 0.4826 - accuracy: 0.8326 - val_loss: 0.4234 - val_accuracy: 0.8474\n",
      "Epoch 10/200\n",
      "70/70 [==============================] - 5s 71ms/step - loss: 0.4733 - accuracy: 0.8352 - val_loss: 0.4117 - val_accuracy: 0.8489\n",
      "Epoch 11/200\n",
      "70/70 [==============================] - 5s 71ms/step - loss: 0.4651 - accuracy: 0.8371 - val_loss: 0.3902 - val_accuracy: 0.8570\n",
      "Epoch 12/200\n",
      "70/70 [==============================] - 5s 70ms/step - loss: 0.4591 - accuracy: 0.8390 - val_loss: 0.3871 - val_accuracy: 0.8576\n",
      "Epoch 13/200\n",
      "70/70 [==============================] - 5s 69ms/step - loss: 0.4536 - accuracy: 0.8403 - val_loss: 0.3823 - val_accuracy: 0.8585\n",
      "Epoch 14/200\n",
      "70/70 [==============================] - 5s 71ms/step - loss: 0.4499 - accuracy: 0.8413 - val_loss: 0.3747 - val_accuracy: 0.8615\n",
      "Epoch 15/200\n",
      "70/70 [==============================] - 5s 71ms/step - loss: 0.4446 - accuracy: 0.8431 - val_loss: 0.3744 - val_accuracy: 0.8617\n",
      "Epoch 16/200\n",
      "70/70 [==============================] - 5s 69ms/step - loss: 0.4413 - accuracy: 0.8439 - val_loss: 0.3717 - val_accuracy: 0.8621\n",
      "Epoch 17/200\n",
      "70/70 [==============================] - 5s 71ms/step - loss: 0.4379 - accuracy: 0.8446 - val_loss: 0.3713 - val_accuracy: 0.8625\n",
      "Epoch 18/200\n",
      "70/70 [==============================] - 5s 71ms/step - loss: 0.4351 - accuracy: 0.8452 - val_loss: 0.3678 - val_accuracy: 0.8630\n",
      "Epoch 19/200\n",
      "70/70 [==============================] - 5s 70ms/step - loss: 0.4313 - accuracy: 0.8463 - val_loss: 0.3646 - val_accuracy: 0.8645\n",
      "Epoch 20/200\n",
      "70/70 [==============================] - 5s 70ms/step - loss: 0.4292 - accuracy: 0.8471 - val_loss: 0.3622 - val_accuracy: 0.8646\n",
      "Epoch 21/200\n",
      "70/70 [==============================] - 5s 70ms/step - loss: 0.4268 - accuracy: 0.8472 - val_loss: 0.3609 - val_accuracy: 0.8655\n",
      "Epoch 22/200\n",
      "70/70 [==============================] - 5s 70ms/step - loss: 0.4241 - accuracy: 0.8485 - val_loss: 0.3623 - val_accuracy: 0.8645\n",
      "Epoch 23/200\n",
      "70/70 [==============================] - 5s 71ms/step - loss: 0.4232 - accuracy: 0.8487 - val_loss: 0.3611 - val_accuracy: 0.8647\n",
      "Epoch 24/200\n",
      "70/70 [==============================] - 5s 70ms/step - loss: 0.4210 - accuracy: 0.8490 - val_loss: 0.3630 - val_accuracy: 0.8637\n",
      "Epoch 25/200\n",
      "70/70 [==============================] - 5s 71ms/step - loss: 0.4202 - accuracy: 0.8493 - val_loss: 0.3570 - val_accuracy: 0.8670\n",
      "Epoch 26/200\n",
      "70/70 [==============================] - 5s 72ms/step - loss: 0.4194 - accuracy: 0.8495 - val_loss: 0.3556 - val_accuracy: 0.8671\n",
      "Epoch 27/200\n",
      "70/70 [==============================] - 5s 72ms/step - loss: 0.4180 - accuracy: 0.8498 - val_loss: 0.3546 - val_accuracy: 0.8666\n",
      "Epoch 28/200\n",
      "70/70 [==============================] - 5s 70ms/step - loss: 0.4156 - accuracy: 0.8510 - val_loss: 0.3515 - val_accuracy: 0.8682\n",
      "Epoch 29/200\n",
      "70/70 [==============================] - 5s 70ms/step - loss: 0.4140 - accuracy: 0.8509 - val_loss: 0.3519 - val_accuracy: 0.8685\n",
      "Epoch 30/200\n",
      "70/70 [==============================] - 5s 70ms/step - loss: 0.4133 - accuracy: 0.8512 - val_loss: 0.3519 - val_accuracy: 0.8677\n",
      "Epoch 31/200\n",
      "70/70 [==============================] - 5s 71ms/step - loss: 0.4124 - accuracy: 0.8515 - val_loss: 0.3499 - val_accuracy: 0.8690\n",
      "Epoch 32/200\n",
      "70/70 [==============================] - 5s 70ms/step - loss: 0.4113 - accuracy: 0.8520 - val_loss: 0.3560 - val_accuracy: 0.8661\n",
      "Epoch 33/200\n",
      "70/70 [==============================] - 5s 70ms/step - loss: 0.4100 - accuracy: 0.8520 - val_loss: 0.3486 - val_accuracy: 0.8688\n",
      "Epoch 34/200\n",
      "70/70 [==============================] - 5s 70ms/step - loss: 0.4096 - accuracy: 0.8524 - val_loss: 0.3542 - val_accuracy: 0.8664\n",
      "Epoch 35/200\n",
      "70/70 [==============================] - 5s 72ms/step - loss: 0.4087 - accuracy: 0.8523 - val_loss: 0.3509 - val_accuracy: 0.8678\n",
      "Epoch 36/200\n",
      "70/70 [==============================] - 5s 71ms/step - loss: 0.4082 - accuracy: 0.8526 - val_loss: 0.3513 - val_accuracy: 0.8681\n",
      "Epoch 37/200\n",
      "70/70 [==============================] - 5s 71ms/step - loss: 0.4073 - accuracy: 0.8531 - val_loss: 0.3498 - val_accuracy: 0.8680\n",
      "Epoch 38/200\n",
      "70/70 [==============================] - 5s 71ms/step - loss: 0.4066 - accuracy: 0.8531 - val_loss: 0.3488 - val_accuracy: 0.8685\n",
      "Epoch 39/200\n",
      "70/70 [==============================] - 5s 70ms/step - loss: 0.4055 - accuracy: 0.8533 - val_loss: 0.3515 - val_accuracy: 0.8673\n",
      "Epoch 40/200\n",
      "70/70 [==============================] - 5s 71ms/step - loss: 0.4053 - accuracy: 0.8530 - val_loss: 0.3472 - val_accuracy: 0.8694\n",
      "Epoch 41/200\n",
      "70/70 [==============================] - 5s 70ms/step - loss: 0.4048 - accuracy: 0.8534 - val_loss: 0.3498 - val_accuracy: 0.8680\n",
      "Epoch 42/200\n",
      "70/70 [==============================] - 5s 71ms/step - loss: 0.4034 - accuracy: 0.8539 - val_loss: 0.3449 - val_accuracy: 0.8701\n",
      "Epoch 43/200\n",
      "70/70 [==============================] - 5s 72ms/step - loss: 0.4039 - accuracy: 0.8539 - val_loss: 0.3484 - val_accuracy: 0.8687\n",
      "Epoch 44/200\n",
      "70/70 [==============================] - 5s 71ms/step - loss: 0.4015 - accuracy: 0.8544 - val_loss: 0.3480 - val_accuracy: 0.8685\n",
      "Epoch 45/200\n",
      "70/70 [==============================] - 5s 70ms/step - loss: 0.4022 - accuracy: 0.8542 - val_loss: 0.3482 - val_accuracy: 0.8682\n",
      "Epoch 46/200\n",
      "70/70 [==============================] - 5s 70ms/step - loss: 0.4012 - accuracy: 0.8545 - val_loss: 0.3459 - val_accuracy: 0.8691\n",
      "Epoch 47/200\n",
      "70/70 [==============================] - 5s 71ms/step - loss: 0.4004 - accuracy: 0.8546 - val_loss: 0.3441 - val_accuracy: 0.8702\n",
      "Epoch 48/200\n",
      "70/70 [==============================] - 5s 71ms/step - loss: 0.4001 - accuracy: 0.8549 - val_loss: 0.3466 - val_accuracy: 0.8694\n",
      "Epoch 49/200\n",
      "70/70 [==============================] - 5s 72ms/step - loss: 0.3992 - accuracy: 0.8548 - val_loss: 0.3459 - val_accuracy: 0.8693\n",
      "Epoch 50/200\n",
      "70/70 [==============================] - 5s 70ms/step - loss: 0.3999 - accuracy: 0.8546 - val_loss: 0.3437 - val_accuracy: 0.8702\n",
      "Epoch 51/200\n",
      "70/70 [==============================] - 5s 70ms/step - loss: 0.3991 - accuracy: 0.8551 - val_loss: 0.3462 - val_accuracy: 0.8690\n",
      "Epoch 52/200\n",
      "70/70 [==============================] - 5s 70ms/step - loss: 0.3988 - accuracy: 0.8553 - val_loss: 0.3470 - val_accuracy: 0.8689\n",
      "Epoch 53/200\n",
      "70/70 [==============================] - 5s 70ms/step - loss: 0.3984 - accuracy: 0.8556 - val_loss: 0.3440 - val_accuracy: 0.8702\n",
      "Epoch 54/200\n",
      "70/70 [==============================] - 5s 69ms/step - loss: 0.3986 - accuracy: 0.8548 - val_loss: 0.3437 - val_accuracy: 0.8701\n",
      "Epoch 55/200\n",
      "70/70 [==============================] - 5s 72ms/step - loss: 0.3978 - accuracy: 0.8555 - val_loss: 0.3451 - val_accuracy: 0.8697\n",
      "Epoch 56/200\n",
      "70/70 [==============================] - 5s 71ms/step - loss: 0.3980 - accuracy: 0.8551 - val_loss: 0.3431 - val_accuracy: 0.8707\n",
      "Epoch 57/200\n",
      "70/70 [==============================] - 5s 71ms/step - loss: 0.3966 - accuracy: 0.8556 - val_loss: 0.3437 - val_accuracy: 0.8702\n",
      "Epoch 58/200\n",
      "70/70 [==============================] - 5s 70ms/step - loss: 0.3968 - accuracy: 0.8554 - val_loss: 0.3418 - val_accuracy: 0.8705\n",
      "Epoch 59/200\n",
      "70/70 [==============================] - 5s 69ms/step - loss: 0.3960 - accuracy: 0.8557 - val_loss: 0.3474 - val_accuracy: 0.8681\n",
      "Epoch 60/200\n",
      "70/70 [==============================] - 5s 69ms/step - loss: 0.3962 - accuracy: 0.8558 - val_loss: 0.3449 - val_accuracy: 0.8694\n",
      "Epoch 61/200\n",
      "70/70 [==============================] - 5s 70ms/step - loss: 0.3948 - accuracy: 0.8563 - val_loss: 0.3423 - val_accuracy: 0.8711\n",
      "Epoch 62/200\n",
      "70/70 [==============================] - 5s 70ms/step - loss: 0.3947 - accuracy: 0.8562 - val_loss: 0.3436 - val_accuracy: 0.8708\n",
      "Epoch 63/200\n",
      "70/70 [==============================] - 5s 69ms/step - loss: 0.3947 - accuracy: 0.8561 - val_loss: 0.3429 - val_accuracy: 0.8699\n",
      "Epoch 64/200\n",
      "70/70 [==============================] - 5s 71ms/step - loss: 0.3947 - accuracy: 0.8563 - val_loss: 0.3429 - val_accuracy: 0.8700\n",
      "Epoch 65/200\n",
      "70/70 [==============================] - 5s 71ms/step - loss: 0.3947 - accuracy: 0.8562 - val_loss: 0.3444 - val_accuracy: 0.8686\n",
      "Epoch 66/200\n",
      "70/70 [==============================] - 5s 71ms/step - loss: 0.3942 - accuracy: 0.8562 - val_loss: 0.3423 - val_accuracy: 0.8705\n",
      "Epoch 67/200\n",
      "70/70 [==============================] - 5s 69ms/step - loss: 0.3938 - accuracy: 0.8563 - val_loss: 0.3413 - val_accuracy: 0.8705\n",
      "Epoch 68/200\n",
      "70/70 [==============================] - 5s 71ms/step - loss: 0.3936 - accuracy: 0.8565 - val_loss: 0.3425 - val_accuracy: 0.8706\n",
      "Epoch 69/200\n",
      "70/70 [==============================] - 5s 71ms/step - loss: 0.3928 - accuracy: 0.8567 - val_loss: 0.3424 - val_accuracy: 0.8708\n",
      "Epoch 70/200\n",
      "70/70 [==============================] - 5s 70ms/step - loss: 0.3936 - accuracy: 0.8564 - val_loss: 0.3420 - val_accuracy: 0.8711\n",
      "Epoch 71/200\n",
      "70/70 [==============================] - 5s 71ms/step - loss: 0.3931 - accuracy: 0.8566 - val_loss: 0.3413 - val_accuracy: 0.8708\n",
      "Epoch 72/200\n",
      "70/70 [==============================] - 5s 71ms/step - loss: 0.3937 - accuracy: 0.8564 - val_loss: 0.3424 - val_accuracy: 0.8704\n",
      "Epoch 73/200\n",
      "70/70 [==============================] - 5s 71ms/step - loss: 0.3921 - accuracy: 0.8570 - val_loss: 0.3424 - val_accuracy: 0.8706\n",
      "Epoch 74/200\n",
      "70/70 [==============================] - 5s 71ms/step - loss: 0.3921 - accuracy: 0.8568 - val_loss: 0.3435 - val_accuracy: 0.8693\n",
      "Epoch 75/200\n",
      "70/70 [==============================] - 5s 70ms/step - loss: 0.3928 - accuracy: 0.8568 - val_loss: 0.3435 - val_accuracy: 0.8705\n",
      "Epoch 76/200\n",
      "70/70 [==============================] - 5s 71ms/step - loss: 0.3919 - accuracy: 0.8569 - val_loss: 0.3406 - val_accuracy: 0.8711\n",
      "Epoch 77/200\n",
      "70/70 [==============================] - 5s 71ms/step - loss: 0.3929 - accuracy: 0.8568 - val_loss: 0.3396 - val_accuracy: 0.8714\n",
      "Epoch 78/200\n",
      "70/70 [==============================] - 5s 71ms/step - loss: 0.3911 - accuracy: 0.8570 - val_loss: 0.3411 - val_accuracy: 0.8708\n",
      "Epoch 79/200\n",
      "70/70 [==============================] - 5s 70ms/step - loss: 0.3919 - accuracy: 0.8569 - val_loss: 0.3420 - val_accuracy: 0.8704\n",
      "Epoch 80/200\n",
      "70/70 [==============================] - 5s 70ms/step - loss: 0.3910 - accuracy: 0.8571 - val_loss: 0.3422 - val_accuracy: 0.8707\n",
      "Epoch 81/200\n",
      "70/70 [==============================] - 5s 71ms/step - loss: 0.3912 - accuracy: 0.8569 - val_loss: 0.3417 - val_accuracy: 0.8706\n",
      "Epoch 82/200\n",
      "70/70 [==============================] - 5s 71ms/step - loss: 0.3910 - accuracy: 0.8570 - val_loss: 0.3407 - val_accuracy: 0.8715\n",
      "Epoch 83/200\n",
      "70/70 [==============================] - 5s 69ms/step - loss: 0.3903 - accuracy: 0.8572 - val_loss: 0.3413 - val_accuracy: 0.8707\n",
      "Epoch 84/200\n",
      "70/70 [==============================] - 5s 69ms/step - loss: 0.3908 - accuracy: 0.8570 - val_loss: 0.3397 - val_accuracy: 0.8720\n",
      "Epoch 85/200\n",
      "70/70 [==============================] - 5s 71ms/step - loss: 0.3902 - accuracy: 0.8574 - val_loss: 0.3386 - val_accuracy: 0.8717\n",
      "Epoch 86/200\n",
      "70/70 [==============================] - 5s 71ms/step - loss: 0.3899 - accuracy: 0.8576 - val_loss: 0.3400 - val_accuracy: 0.8713\n",
      "Epoch 87/200\n",
      "70/70 [==============================] - 5s 71ms/step - loss: 0.3893 - accuracy: 0.8576 - val_loss: 0.3401 - val_accuracy: 0.8708\n",
      "Epoch 88/200\n",
      "70/70 [==============================] - 5s 70ms/step - loss: 0.3892 - accuracy: 0.8579 - val_loss: 0.3406 - val_accuracy: 0.8708\n",
      "Epoch 89/200\n",
      "70/70 [==============================] - 5s 71ms/step - loss: 0.3896 - accuracy: 0.8577 - val_loss: 0.3391 - val_accuracy: 0.8720\n",
      "Epoch 90/200\n",
      "70/70 [==============================] - 5s 72ms/step - loss: 0.3894 - accuracy: 0.8577 - val_loss: 0.3401 - val_accuracy: 0.8714\n",
      "Epoch 91/200\n",
      "70/70 [==============================] - 5s 70ms/step - loss: 0.3893 - accuracy: 0.8576 - val_loss: 0.3417 - val_accuracy: 0.8700\n",
      "Epoch 92/200\n",
      "70/70 [==============================] - 5s 70ms/step - loss: 0.3894 - accuracy: 0.8574 - val_loss: 0.3380 - val_accuracy: 0.8721\n",
      "Epoch 93/200\n",
      "70/70 [==============================] - 5s 71ms/step - loss: 0.3888 - accuracy: 0.8578 - val_loss: 0.3402 - val_accuracy: 0.8711\n",
      "Epoch 94/200\n",
      "70/70 [==============================] - 5s 71ms/step - loss: 0.3887 - accuracy: 0.8575 - val_loss: 0.3374 - val_accuracy: 0.8720\n",
      "Epoch 95/200\n",
      "70/70 [==============================] - 5s 70ms/step - loss: 0.3880 - accuracy: 0.8581 - val_loss: 0.3368 - val_accuracy: 0.8723\n",
      "Epoch 96/200\n",
      "70/70 [==============================] - 5s 70ms/step - loss: 0.3893 - accuracy: 0.8576 - val_loss: 0.3402 - val_accuracy: 0.8708\n",
      "Epoch 97/200\n",
      "70/70 [==============================] - 5s 71ms/step - loss: 0.3877 - accuracy: 0.8576 - val_loss: 0.3407 - val_accuracy: 0.8706\n",
      "Epoch 98/200\n",
      "70/70 [==============================] - 5s 70ms/step - loss: 0.3880 - accuracy: 0.8577 - val_loss: 0.3393 - val_accuracy: 0.8711\n",
      "Epoch 99/200\n",
      "70/70 [==============================] - 5s 70ms/step - loss: 0.3881 - accuracy: 0.8578 - val_loss: 0.3410 - val_accuracy: 0.8701\n",
      "Epoch 100/200\n",
      "70/70 [==============================] - 5s 71ms/step - loss: 0.3878 - accuracy: 0.8582 - val_loss: 0.3401 - val_accuracy: 0.8712\n",
      "Epoch 101/200\n",
      "70/70 [==============================] - 5s 71ms/step - loss: 0.3872 - accuracy: 0.8579 - val_loss: 0.3364 - val_accuracy: 0.8727\n",
      "Epoch 102/200\n",
      "70/70 [==============================] - 5s 70ms/step - loss: 0.3875 - accuracy: 0.8580 - val_loss: 0.3365 - val_accuracy: 0.8725\n",
      "Epoch 103/200\n",
      "70/70 [==============================] - 5s 70ms/step - loss: 0.3876 - accuracy: 0.8582 - val_loss: 0.3388 - val_accuracy: 0.8721\n",
      "Epoch 104/200\n",
      "70/70 [==============================] - 5s 71ms/step - loss: 0.3871 - accuracy: 0.8581 - val_loss: 0.3380 - val_accuracy: 0.8716\n",
      "Epoch 105/200\n",
      "70/70 [==============================] - 5s 70ms/step - loss: 0.3870 - accuracy: 0.8581 - val_loss: 0.3371 - val_accuracy: 0.8721\n",
      "Epoch 106/200\n",
      "70/70 [==============================] - 5s 70ms/step - loss: 0.3870 - accuracy: 0.8581 - val_loss: 0.3379 - val_accuracy: 0.8722\n",
      "Epoch 107/200\n",
      "70/70 [==============================] - 5s 71ms/step - loss: 0.3871 - accuracy: 0.8583 - val_loss: 0.3375 - val_accuracy: 0.8724\n",
      "Epoch 108/200\n",
      "70/70 [==============================] - 5s 71ms/step - loss: 0.3863 - accuracy: 0.8584 - val_loss: 0.3384 - val_accuracy: 0.8716\n",
      "Epoch 109/200\n",
      "70/70 [==============================] - 5s 71ms/step - loss: 0.3867 - accuracy: 0.8583 - val_loss: 0.3383 - val_accuracy: 0.8715\n",
      "Epoch 110/200\n",
      "70/70 [==============================] - 5s 70ms/step - loss: 0.3871 - accuracy: 0.8580 - val_loss: 0.3375 - val_accuracy: 0.8724\n",
      "Epoch 111/200\n",
      "70/70 [==============================] - ETA: 0s - loss: 0.3855 - accuracy: 0.8585Restoring model weights from the end of the best epoch: 101.\n",
      "70/70 [==============================] - 5s 71ms/step - loss: 0.3855 - accuracy: 0.8585 - val_loss: 0.3395 - val_accuracy: 0.8711\n",
      "Epoch 111: early stopping\n"
     ]
    },
    {
     "data": {
      "text/plain": [
       "<keras.callbacks.History at 0x7f2e8c549730>"
      ]
     },
     "execution_count": 16,
     "metadata": {},
     "output_type": "execute_result"
    }
   ],
   "source": [
    "history = model.fit(x_train, y_train,\n",
    "          #class_weight=class_weights,\n",
    "          batch_size=10000,\n",
    "          epochs=200,\n",
    "          verbose=1,\n",
    "          shuffle=True,\n",
    "          validation_data=(x_test, y_test),\n",
    "          callbacks=[es])"
   ]
  },
  {
   "cell_type": "markdown",
   "metadata": {
    "id": "aXNKkmTA0DX-"
   },
   "source": [
    "# Evaluate model"
   ]
  },
  {
   "cell_type": "code",
   "execution_count": 17,
   "metadata": {
    "id": "3y2_K5vr0E60"
   },
   "outputs": [
    {
     "name": "stdout",
     "output_type": "stream",
     "text": [
      "3636/3636 [==============================] - 5s 1ms/step - loss: 0.3364 - accuracy: 0.8728\n",
      "Test loss: 0.33641672134399414\n",
      "Test accuracy: 0.8727680444717407\n"
     ]
    }
   ],
   "source": [
    "score = model.evaluate(x_test, y_test, verbose=1)\n",
    "print('Test loss:', score[0])\n",
    "print('Test accuracy:', score[1])"
   ]
  },
  {
   "cell_type": "code",
   "execution_count": null,
   "metadata": {
    "id": "D9gDTZs10HjZ"
   },
   "outputs": [],
   "source": [
    "import matplotlib.pyplot as plt\n",
    "def plotres(history, metric):\n",
    "    plt.plot(history.history[metric])\n",
    "    plt.plot(history.history['val_'+metric])\n",
    "    plt.title(metric.upper())\n",
    "    plt.ylabel(metric)\n",
    "    plt.xlabel('Epoch')\n",
    "    plt.legend(['Train', 'Validation'])\n",
    "    plt.show()\n",
    "\n",
    "plotres(history.history, \"accuracy\")\n",
    "plotres(history.history, \"loss\")"
   ]
  },
  {
   "cell_type": "code",
   "execution_count": 25,
   "metadata": {
    "id": "cyd6PJkf0Lxj"
   },
   "outputs": [],
   "source": [
    "y_pred = model.predict(x_test)"
   ]
  },
  {
   "cell_type": "code",
   "execution_count": 26,
   "metadata": {
    "id": "WdZBtIBJ0NKZ"
   },
   "outputs": [],
   "source": [
    "import seaborn as sns\n",
    "import matplotlib.pyplot as plt\n",
    "import string\n",
    "from sklearn.metrics import confusion_matrix\n",
    "from sklearn.utils.multiclass import unique_labels"
   ]
  },
  {
   "cell_type": "code",
   "execution_count": 27,
   "metadata": {
    "id": "zW1SMmIt0Ne5"
   },
   "outputs": [
    {
     "data": {
      "text/plain": [
       "<AxesSubplot:>"
      ]
     },
     "execution_count": 27,
     "metadata": {},
     "output_type": "execute_result"
    },
    {
     "data": {
      "image/png": "[encoded data removed]",
      "text/plain": [
       "<Figure size 1440x1440 with 2 Axes>"
      ]
     },
     "metadata": {
      "needs_background": "light"
     },
     "output_type": "display_data"
    }
   ],
   "source": [
    "labels = string.digits+string.ascii_lowercase+string.ascii_uppercase\n",
    "plt.subplots(figsize=(20,20))\n",
    "sns.heatmap(confusion_matrix(np.argmax(y_test, axis=1), np.argmax(y_pred, axis=1)), xticklabels=labels, yticklabels=labels)"
   ]
  },
  {
   "cell_type": "markdown",
   "metadata": {
    "id": "Pj745x9c0Oe0"
   },
   "source": [
    "# Convert model to JavaScript"
   ]
  },
  {
   "cell_type": "code",
   "execution_count": 28,
   "metadata": {
    "id": "W12sFoFJ0QXx"
   },
   "outputs": [],
   "source": [
    "model.save(\"model/cnn_emnist.h5\")"
   ]
  },
  {
   "cell_type": "code",
   "execution_count": 29,
   "metadata": {
    "id": "KuXSDmsN0Rpb"
   },
   "outputs": [
    {
     "name": "stdout",
     "output_type": "stream",
     "text": [
      "Collecting tensorflowjs\n",
      "  Downloading tensorflowjs-3.19.0-py3-none-any.whl (78 kB)\n",
      "\u001b[K     |████████████████████████████████| 78 kB 1.4 MB/s eta 0:00:01\n",
      "\u001b[?25hRequirement already satisfied: tensorflow<3,>=2.1.0 in /home/phakh/anaconda3/envs/tensorflow/lib/python3.9/site-packages (from tensorflowjs) (2.8.0)\n",
      "Collecting protobuf==3.20.0\n",
      "  Downloading protobuf-3.20.0-cp39-cp39-manylinux_2_5_x86_64.manylinux1_x86_64.whl (1.0 MB)\n",
      "\u001b[K     |████████████████████████████████| 1.0 MB 4.0 MB/s eta 0:00:01\n",
      "\u001b[?25hRequirement already satisfied: six<2,>=1.12.0 in /home/phakh/anaconda3/envs/tensorflow/lib/python3.9/site-packages (from tensorflowjs) (1.16.0)\n",
      "Collecting tensorflow-hub<0.13,>=0.7.0\n",
      "  Downloading tensorflow_hub-0.12.0-py2.py3-none-any.whl (108 kB)\n",
      "\u001b[K     |████████████████████████████████| 108 kB 9.3 MB/s eta 0:00:01\n",
      "\u001b[?25hCollecting packaging~=20.9\n",
      "  Downloading packaging-20.9-py2.py3-none-any.whl (40 kB)\n",
      "\u001b[K     |████████████████████████████████| 40 kB 4.0 MB/s  eta 0:00:01\n",
      "\u001b[?25hRequirement already satisfied: pyparsing>=2.0.2 in /home/phakh/anaconda3/envs/tensorflow/lib/python3.9/site-packages (from packaging~=20.9->tensorflowjs) (3.0.4)\n",
      "Requirement already satisfied: h5py>=2.9.0 in /home/phakh/anaconda3/envs/tensorflow/lib/python3.9/site-packages (from tensorflow<3,>=2.1.0->tensorflowjs) (3.6.0)\n",
      "Requirement already satisfied: wrapt>=1.11.0 in /home/phakh/anaconda3/envs/tensorflow/lib/python3.9/site-packages (from tensorflow<3,>=2.1.0->tensorflowjs) (1.12.1)\n",
      "Requirement already satisfied: opt-einsum>=2.3.2 in /home/phakh/anaconda3/envs/tensorflow/lib/python3.9/site-packages (from tensorflow<3,>=2.1.0->tensorflowjs) (3.3.0)\n",
      "Requirement already satisfied: grpcio<2.0,>=1.24.3 in /home/phakh/anaconda3/envs/tensorflow/lib/python3.9/site-packages (from tensorflow<3,>=2.1.0->tensorflowjs) (1.43.0)\n",
      "Requirement already satisfied: tensorflow-io-gcs-filesystem>=0.23.1 in /home/phakh/anaconda3/envs/tensorflow/lib/python3.9/site-packages (from tensorflow<3,>=2.1.0->tensorflowjs) (0.23.1)\n",
      "Requirement already satisfied: tensorboard<2.9,>=2.8 in /home/phakh/anaconda3/envs/tensorflow/lib/python3.9/site-packages (from tensorflow<3,>=2.1.0->tensorflowjs) (2.8.0)\n",
      "Requirement already satisfied: flatbuffers>=1.12 in /home/phakh/anaconda3/envs/tensorflow/lib/python3.9/site-packages (from tensorflow<3,>=2.1.0->tensorflowjs) (2.0)\n",
      "Requirement already satisfied: astunparse>=1.6.0 in /home/phakh/anaconda3/envs/tensorflow/lib/python3.9/site-packages (from tensorflow<3,>=2.1.0->tensorflowjs) (1.6.3)\n",
      "Requirement already satisfied: libclang>=9.0.1 in /home/phakh/anaconda3/envs/tensorflow/lib/python3.9/site-packages (from tensorflow<3,>=2.1.0->tensorflowjs) (13.0.0)\n",
      "Requirement already satisfied: absl-py>=0.4.0 in /home/phakh/anaconda3/envs/tensorflow/lib/python3.9/site-packages (from tensorflow<3,>=2.1.0->tensorflowjs) (1.0.0)\n",
      "Requirement already satisfied: termcolor>=1.1.0 in /home/phakh/anaconda3/envs/tensorflow/lib/python3.9/site-packages (from tensorflow<3,>=2.1.0->tensorflowjs) (1.1.0)\n",
      "Requirement already satisfied: setuptools in /home/phakh/anaconda3/envs/tensorflow/lib/python3.9/site-packages (from tensorflow<3,>=2.1.0->tensorflowjs) (58.0.4)\n",
      "Requirement already satisfied: google-pasta>=0.1.1 in /home/phakh/anaconda3/envs/tensorflow/lib/python3.9/site-packages (from tensorflow<3,>=2.1.0->tensorflowjs) (0.2.0)\n",
      "Requirement already satisfied: gast>=0.2.1 in /home/phakh/anaconda3/envs/tensorflow/lib/python3.9/site-packages (from tensorflow<3,>=2.1.0->tensorflowjs) (0.5.3)\n",
      "Requirement already satisfied: keras-preprocessing>=1.1.1 in /home/phakh/anaconda3/envs/tensorflow/lib/python3.9/site-packages (from tensorflow<3,>=2.1.0->tensorflowjs) (1.1.2)\n",
      "Requirement already satisfied: typing-extensions>=3.6.6 in /home/phakh/anaconda3/envs/tensorflow/lib/python3.9/site-packages (from tensorflow<3,>=2.1.0->tensorflowjs) (3.10.0.2)\n",
      "Requirement already satisfied: keras<2.9,>=2.8.0rc0 in /home/phakh/anaconda3/envs/tensorflow/lib/python3.9/site-packages (from tensorflow<3,>=2.1.0->tensorflowjs) (2.8.0)\n",
      "Requirement already satisfied: tf-estimator-nightly==2.8.0.dev2021122109 in /home/phakh/anaconda3/envs/tensorflow/lib/python3.9/site-packages (from tensorflow<3,>=2.1.0->tensorflowjs) (2.8.0.dev2021122109)\n",
      "Requirement already satisfied: numpy>=1.20 in /home/phakh/anaconda3/envs/tensorflow/lib/python3.9/site-packages (from tensorflow<3,>=2.1.0->tensorflowjs) (1.20.3)\n",
      "Requirement already satisfied: wheel<1.0,>=0.23.0 in /home/phakh/anaconda3/envs/tensorflow/lib/python3.9/site-packages (from astunparse>=1.6.0->tensorflow<3,>=2.1.0->tensorflowjs) (0.37.1)\n",
      "Requirement already satisfied: werkzeug>=0.11.15 in /home/phakh/anaconda3/envs/tensorflow/lib/python3.9/site-packages (from tensorboard<2.9,>=2.8->tensorflow<3,>=2.1.0->tensorflowjs) (2.0.2)\n",
      "Requirement already satisfied: requests<3,>=2.21.0 in /home/phakh/anaconda3/envs/tensorflow/lib/python3.9/site-packages (from tensorboard<2.9,>=2.8->tensorflow<3,>=2.1.0->tensorflowjs) (2.27.1)\n",
      "Requirement already satisfied: tensorboard-plugin-wit>=1.6.0 in /home/phakh/anaconda3/envs/tensorflow/lib/python3.9/site-packages (from tensorboard<2.9,>=2.8->tensorflow<3,>=2.1.0->tensorflowjs) (1.8.1)\n",
      "Requirement already satisfied: google-auth-oauthlib<0.5,>=0.4.1 in /home/phakh/anaconda3/envs/tensorflow/lib/python3.9/site-packages (from tensorboard<2.9,>=2.8->tensorflow<3,>=2.1.0->tensorflowjs) (0.4.6)\n",
      "Requirement already satisfied: tensorboard-data-server<0.7.0,>=0.6.0 in /home/phakh/anaconda3/envs/tensorflow/lib/python3.9/site-packages (from tensorboard<2.9,>=2.8->tensorflow<3,>=2.1.0->tensorflowjs) (0.6.1)\n",
      "Requirement already satisfied: google-auth<3,>=1.6.3 in /home/phakh/anaconda3/envs/tensorflow/lib/python3.9/site-packages (from tensorboard<2.9,>=2.8->tensorflow<3,>=2.1.0->tensorflowjs) (2.6.0)\n",
      "Requirement already satisfied: markdown>=2.6.8 in /home/phakh/anaconda3/envs/tensorflow/lib/python3.9/site-packages (from tensorboard<2.9,>=2.8->tensorflow<3,>=2.1.0->tensorflowjs) (3.3.6)\n",
      "Requirement already satisfied: pyasn1-modules>=0.2.1 in /home/phakh/anaconda3/envs/tensorflow/lib/python3.9/site-packages (from google-auth<3,>=1.6.3->tensorboard<2.9,>=2.8->tensorflow<3,>=2.1.0->tensorflowjs) (0.2.8)\n",
      "Requirement already satisfied: cachetools<6.0,>=2.0.0 in /home/phakh/anaconda3/envs/tensorflow/lib/python3.9/site-packages (from google-auth<3,>=1.6.3->tensorboard<2.9,>=2.8->tensorflow<3,>=2.1.0->tensorflowjs) (5.0.0)\n",
      "Requirement already satisfied: rsa<5,>=3.1.4 in /home/phakh/anaconda3/envs/tensorflow/lib/python3.9/site-packages (from google-auth<3,>=1.6.3->tensorboard<2.9,>=2.8->tensorflow<3,>=2.1.0->tensorflowjs) (4.8)\n",
      "Requirement already satisfied: requests-oauthlib>=0.7.0 in /home/phakh/anaconda3/envs/tensorflow/lib/python3.9/site-packages (from google-auth-oauthlib<0.5,>=0.4.1->tensorboard<2.9,>=2.8->tensorflow<3,>=2.1.0->tensorflowjs) (1.3.1)\n",
      "Requirement already satisfied: importlib-metadata>=4.4 in /home/phakh/anaconda3/envs/tensorflow/lib/python3.9/site-packages (from markdown>=2.6.8->tensorboard<2.9,>=2.8->tensorflow<3,>=2.1.0->tensorflowjs) (4.8.2)\n",
      "Requirement already satisfied: zipp>=0.5 in /home/phakh/anaconda3/envs/tensorflow/lib/python3.9/site-packages (from importlib-metadata>=4.4->markdown>=2.6.8->tensorboard<2.9,>=2.8->tensorflow<3,>=2.1.0->tensorflowjs) (3.7.0)\n",
      "Requirement already satisfied: pyasn1<0.5.0,>=0.4.6 in /home/phakh/anaconda3/envs/tensorflow/lib/python3.9/site-packages (from pyasn1-modules>=0.2.1->google-auth<3,>=1.6.3->tensorboard<2.9,>=2.8->tensorflow<3,>=2.1.0->tensorflowjs) (0.4.8)\n",
      "Requirement already satisfied: idna<4,>=2.5 in /home/phakh/anaconda3/envs/tensorflow/lib/python3.9/site-packages (from requests<3,>=2.21.0->tensorboard<2.9,>=2.8->tensorflow<3,>=2.1.0->tensorflowjs) (3.3)\n",
      "Requirement already satisfied: certifi>=2017.4.17 in /home/phakh/anaconda3/envs/tensorflow/lib/python3.9/site-packages (from requests<3,>=2.21.0->tensorboard<2.9,>=2.8->tensorflow<3,>=2.1.0->tensorflowjs) (2021.10.8)\n",
      "Requirement already satisfied: urllib3<1.27,>=1.21.1 in /home/phakh/anaconda3/envs/tensorflow/lib/python3.9/site-packages (from requests<3,>=2.21.0->tensorboard<2.9,>=2.8->tensorflow<3,>=2.1.0->tensorflowjs) (1.26.8)\n",
      "Requirement already satisfied: charset-normalizer~=2.0.0 in /home/phakh/anaconda3/envs/tensorflow/lib/python3.9/site-packages (from requests<3,>=2.21.0->tensorboard<2.9,>=2.8->tensorflow<3,>=2.1.0->tensorflowjs) (2.0.4)\n"
     ]
    },
    {
     "name": "stdout",
     "output_type": "stream",
     "text": [
      "Requirement already satisfied: oauthlib>=3.0.0 in /home/phakh/anaconda3/envs/tensorflow/lib/python3.9/site-packages (from requests-oauthlib>=0.7.0->google-auth-oauthlib<0.5,>=0.4.1->tensorboard<2.9,>=2.8->tensorflow<3,>=2.1.0->tensorflowjs) (3.2.0)\n",
      "Installing collected packages: protobuf, tensorflow-hub, packaging, tensorflowjs\n",
      "  Attempting uninstall: protobuf\n",
      "    Found existing installation: protobuf 3.19.4\n",
      "    Uninstalling protobuf-3.19.4:\n",
      "      Successfully uninstalled protobuf-3.19.4\n",
      "  Attempting uninstall: packaging\n",
      "    Found existing installation: packaging 21.3\n",
      "    Uninstalling packaging-21.3:\n",
      "      Successfully uninstalled packaging-21.3\n",
      "Successfully installed packaging-20.9 protobuf-3.20.0 tensorflow-hub-0.12.0 tensorflowjs-3.19.0\n"
     ]
    }
   ],
   "source": [
    "!pip install tensorflowjs"
   ]
  },
  {
   "cell_type": "code",
   "execution_count": 30,
   "metadata": {
    "id": "dv_aseDu0Sgc"
   },
   "outputs": [
    {
     "name": "stdout",
     "output_type": "stream",
     "text": [
      "  adding: jsmodel/ (stored 0%)\r\n",
      "  adding: jsmodel/model.json (deflated 87%)\r\n",
      "  adding: jsmodel/group1-shard1of1.bin (deflated 7%)\r\n"
     ]
    }
   ],
   "source": [
    "!tensorflowjs_converter --input_format keras \"model/cnn_emnist.h5\" ./model\n",
    "!zip -r jsmodel.zip model/"
   ]
  }
 ],
 "metadata": {
  "accelerator": "TPU",
  "colab": {
   "authorship_tag": "ABX9TyNbK2BltJHjcOs95Sk+rcZh",
   "collapsed_sections": [],
   "name": "Handwriting_recognition_V1.ipynb",
   "provenance": []
  },
  "gpuClass": "standard",
  "kernelspec": {
   "display_name": "Python 3 (ipykernel)",
   "language": "python",
   "name": "python3"
  },
  "language_info": {
   "codemirror_mode": {
    "name": "ipython",
    "version": 3
   },
   "file_extension": ".py",
   "mimetype": "text/x-python",
   "name": "python",
   "nbconvert_exporter": "python",
   "pygments_lexer": "ipython3",
   "version": "3.9.7"
  }
 },
 "nbformat": 4,
 "nbformat_minor": 1
}
